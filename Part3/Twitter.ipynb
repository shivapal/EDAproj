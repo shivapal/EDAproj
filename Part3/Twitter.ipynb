{
 "cells": [
  {
   "cell_type": "code",
   "execution_count": null,
   "metadata": {},
   "outputs": [],
   "source": [
    "library(twitteR)\n",
    "library(rtweet)\n",
    "# API_Key, API_Secret\n",
    "consumer_key <- \"y7Hd2hpV1mrtNoqyadIXjfH4c\"\n",
    "consumer_secret <- \"gm3fhY3wHsJJZFykDafLBqYkNN5vL8ltQKgg746lfRU2qzq1Ky\"\n",
    "access_token <- \"935345877715243008-qqzLBe0YhamrabXw6bkHQYymIRmRisG\"\n",
    "access_secret <- \"reCFuv7atTTMTvnhlrqCzZ1QV4QAg2NgFd8Wi4QuLyd2k\"\n",
    "setup_twitter_oauth(consumer_key, consumer_secret, access_token, access_secret) "
   ]
  },
  {
   "cell_type": "code",
   "execution_count": null,
   "metadata": {},
   "outputs": [],
   "source": [
    "terms <- c(\"#flu\", \"#influenza\", \"#fluszn\")\n",
    "# terms_search <- paste(terms, collapse = \" -filter:retweets OR \")\n",
    "terms_search = \"#flu OR #influenza OR #fluszn -filter:retweets\"\n",
    "flu <- searchTwitter(terms_search, n=20000, lang = \"en\", since= '2019-01-01')\n",
    "flu <- twListToDF(flu)\n",
    "write.table(flu,\"tweet.csv\", append=T, row.names=F, col.names=T,  sep=\",\")"
   ]
  },
  {
   "cell_type": "code",
   "execution_count": null,
   "metadata": {},
   "outputs": [],
   "source": [
    "terms_search = \"#flu OR #influenza OR #fluszn -filter:retweets\"\n",
    "flu <- searchTwitter(terms_search, n=20000, lang = \"en\", since= '2019-01-01')\n",
    "flu <- twListToDF(flu)\n",
    "write.table(flu,\"tweet.csv\", append=T, row.names=F, col.names=F,  sep=\",\")"
   ]
  }
 ],
 "metadata": {
  "kernelspec": {
   "display_name": "R",
   "language": "R",
   "name": "ir"
  },
  "language_info": {
   "codemirror_mode": "r",
   "file_extension": ".r",
   "mimetype": "text/x-r-source",
   "name": "R",
   "pygments_lexer": "r",
   "version": "3.4.3"
  }
 },
 "nbformat": 4,
 "nbformat_minor": 2
}
